{
  "nbformat": 4,
  "nbformat_minor": 0,
  "metadata": {
    "colab": {
      "provenance": []
    },
    "kernelspec": {
      "name": "python3",
      "display_name": "Python 3"
    },
    "language_info": {
      "name": "python"
    }
  },
  "cells": [
    {
      "cell_type": "code",
      "execution_count": null,
      "metadata": {
        "colab": {
          "base_uri": "https://localhost:8080/"
        },
        "id": "X-Togli6pb2L",
        "outputId": "b5c9f9ce-6c3f-425b-a34b-1fed018b7769"
      },
      "outputs": [
        {
          "output_type": "stream",
          "name": "stdout",
          "text": [
            "Mean :  1.8\n"
          ]
        }
      ],
      "source": [
        "### Question 1\n",
        "import numpy as np\n",
        "\n",
        "def computeMean(X):\n",
        "  return #your code here ******************\n",
        "\n",
        "X = [2, 0, 2, 2, 7, 4, -2, 5, -1, -1]\n",
        "\n",
        "print(\"Mean : \", computeMean(X))"
      ]
    },
    {
      "cell_type": "code",
      "source": [
        "### Question 2\n",
        "\n",
        "def computeMedian(X):\n",
        "  size = len(X)\n",
        "  X = np.sort(X)\n",
        "  if (size % 2 == 0):\n",
        "    return #your code here ******************\n",
        "  else:\n",
        "    return #your code here ******************\n",
        "\n",
        "X = [1, 5, 4, 4, 9, 13]\n",
        "print(\"Median: \", computeMedian(X))"
      ],
      "metadata": {
        "colab": {
          "base_uri": "https://localhost:8080/"
        },
        "id": "2oitbCAMsCq4",
        "outputId": "a3ef2521-bfd4-4311-bd8d-b7f1353c9c18"
      },
      "execution_count": null,
      "outputs": [
        {
          "output_type": "stream",
          "name": "stdout",
          "text": [
            "[ 1  4  4  5  9 13]\n",
            "Median:  4.5\n"
          ]
        }
      ]
    },
    {
      "cell_type": "code",
      "source": [
        "### Question 3\n",
        "def compute_std(X):\n",
        "  mean = computeMean(X)\n",
        "  variance = 0\n",
        "\n",
        " #your code here ******************\n",
        "  return np.sqrt(variance)\n",
        "\n",
        "X = [ 171, 176, 155, 167, 169, 182]\n",
        "print(np.round(compute_std(X),2))"
      ],
      "metadata": {
        "colab": {
          "base_uri": "https://localhost:8080/"
        },
        "id": "WZlZBmPsxdAH",
        "outputId": "f09838dc-9605-4e37-8019-c342d94cdc5e"
      },
      "execution_count": null,
      "outputs": [
        {
          "output_type": "stream",
          "name": "stdout",
          "text": [
            "8.33\n"
          ]
        }
      ]
    },
    {
      "cell_type": "code",
      "source": [
        "### Question 4"
      ],
      "metadata": {
        "id": "wjTGUgy90n41"
      },
      "execution_count": null,
      "outputs": []
    },
    {
      "cell_type": "code",
      "source": [
        "\n",
        "def computeCorrelationCofficient(X, Y):\n",
        "  N = len(X)\n",
        "\n",
        "  #your code here ******************\n",
        "\n",
        "  return np.round(numerator / denominator,2)\n",
        "\n",
        "X = np.asarray([-2, -5, -11, 6, 4, 15, 9])\n",
        "Y = np.asarray([4, 25, 121, 36, 16, 225, 81])\n",
        "print(\"Correlation: \", computeCorrelationCofficient(X,Y))"
      ],
      "metadata": {
        "colab": {
          "base_uri": "https://localhost:8080/"
        },
        "id": "Bqly9y-F0prw",
        "outputId": "6a84dda4-2948-4ad9-93d5-fc774c6d92f1"
      },
      "execution_count": null,
      "outputs": [
        {
          "output_type": "stream",
          "name": "stdout",
          "text": [
            "Correlation:  0.42\n"
          ]
        }
      ]
    }
  ]
}